{
 "cells": [
  {
   "cell_type": "code",
   "execution_count": 45,
   "metadata": {},
   "outputs": [
    {
     "name": "stdin",
     "output_type": "stream",
     "text": [
      "We have 4 types of calculator, 1 for Addition, 2 for Subtraction, 3 for Multiplication and 4 for Division. Note only 2 int are accepted. Enter your calculater: 4\n"
     ]
    },
    {
     "name": "stdout",
     "output_type": "stream",
     "text": [
      "Division Calculator!\n"
     ]
    },
    {
     "name": "stdin",
     "output_type": "stream",
     "text": [
      "Enter your first number: 50\n",
      "Enter your second number: 2\n"
     ]
    },
    {
     "name": "stdout",
     "output_type": "stream",
     "text": [
      "25.0\n"
     ]
    }
   ],
   "source": [
    "def plus(x, y):\n",
    "    add = x+y\n",
    "    return add\n",
    "\n",
    "def minus(x,y):\n",
    "    subtract = x-y\n",
    "    return subtract\n",
    "\n",
    "def times(x, y):\n",
    "    multiply = x*y\n",
    "    return multiply\n",
    "\n",
    "def div(x,y):\n",
    "    divide = x/y\n",
    "    return divide\n",
    "\n",
    "def addcal():\n",
    "    print(\"Addition Calculator!\")\n",
    "    num1 = input(\"Enter your first number:\")\n",
    "    num2 = input(\"Enter your second number:\")\n",
    "    x = int(num1)\n",
    "    y = int(num2)\n",
    "    total = plus(x,y)\n",
    "    print(total)\n",
    "\n",
    "def minuscal():\n",
    "    print(\"Subtraction Calculator!\")\n",
    "    num1 = input(\"Enter your first number:\")\n",
    "    num2 = input(\"Enter your second number:\")\n",
    "    x = int(num1)\n",
    "    y = int(num2)\n",
    "    total = minus(x,y)\n",
    "    print(total)\n",
    "\n",
    "def timescal():\n",
    "    print(\"Multiplication Calculator!\")\n",
    "    num1 = input(\"Enter your first number:\")\n",
    "    num2 = input(\"Enter your second number:\")\n",
    "    x = int(num1)\n",
    "    y = int(num2)\n",
    "    total = times(x,y)\n",
    "    print(total)\n",
    "\n",
    "def divcal():\n",
    "    print(\"Division Calculator!\")\n",
    "    num1 = input(\"Enter your first number:\")\n",
    "    num2 = input(\"Enter your second number:\")\n",
    "    x = int(num1)\n",
    "    y = int(num2)\n",
    "    total = div(x,y)\n",
    "    print(total)\n",
    "\n",
    "cal=str(input(\"We have 4 types of calculator, 1 for Addition, 2 for Subtraction, 3 for Multiplication and 4 for Division. Note only 2 int are accepted. Enter your calculater:\"))\n",
    "if cal==\"1\":\n",
    "    addcal()\n",
    "elif cal == \"2\":\n",
    "    minuscal()\n",
    "elif cal == \"3\":\n",
    "    timescal()\n",
    "elif cal == \"4\":\n",
    "    divcal()\n",
    "else:\n",
    "    print(\"Invalid!\")"
   ]
  },
  {
   "cell_type": "code",
   "execution_count": null,
   "metadata": {},
   "outputs": [],
   "source": []
  }
 ],
 "metadata": {
  "kernelspec": {
   "display_name": "Python 3",
   "language": "python",
   "name": "python3"
  },
  "language_info": {
   "codemirror_mode": {
    "name": "ipython",
    "version": 3
   },
   "file_extension": ".py",
   "mimetype": "text/x-python",
   "name": "python",
   "nbconvert_exporter": "python",
   "pygments_lexer": "ipython3",
   "version": "3.8.3"
  }
 },
 "nbformat": 4,
 "nbformat_minor": 4
}
